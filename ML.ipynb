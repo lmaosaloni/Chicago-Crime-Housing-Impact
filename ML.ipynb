{
 "cells": [
  {
   "cell_type": "code",
   "execution_count": 1,
   "metadata": {},
   "outputs": [],
   "source": [
    "import pandas as pd\n",
    "import numpy as np\n",
    "from ML_pr import *\n",
    "from sklearn.linear_model import LogisticRegression\n"
   ]
  },
  {
   "cell_type": "code",
   "execution_count": 2,
   "metadata": {},
   "outputs": [],
   "source": [
    "crime_data_2021_present = pd.read_csv('csv_files/Crimes_2014.csv')"
   ]
  },
  {
   "cell_type": "code",
   "execution_count": 3,
   "metadata": {},
   "outputs": [
    {
     "data": {
      "text/html": [
       "<div>\n",
       "<style scoped>\n",
       "    .dataframe tbody tr th:only-of-type {\n",
       "        vertical-align: middle;\n",
       "    }\n",
       "\n",
       "    .dataframe tbody tr th {\n",
       "        vertical-align: top;\n",
       "    }\n",
       "\n",
       "    .dataframe thead th {\n",
       "        text-align: right;\n",
       "    }\n",
       "</style>\n",
       "<table border=\"1\" class=\"dataframe\">\n",
       "  <thead>\n",
       "    <tr style=\"text-align: right;\">\n",
       "      <th></th>\n",
       "      <th>ID</th>\n",
       "      <th>New_Date</th>\n",
       "      <th>Primary Type</th>\n",
       "      <th>Location Description</th>\n",
       "      <th>Arrest</th>\n",
       "      <th>Community Area</th>\n",
       "      <th>RegionName</th>\n",
       "      <th>Severity_Score</th>\n",
       "    </tr>\n",
       "  </thead>\n",
       "  <tbody>\n",
       "    <tr>\n",
       "      <th>0</th>\n",
       "      <td>12045583</td>\n",
       "      <td>2020-05-07 10:24:00</td>\n",
       "      <td>THEFT</td>\n",
       "      <td>APARTMENT</td>\n",
       "      <td>0</td>\n",
       "      <td>35.0</td>\n",
       "      <td>Douglas</td>\n",
       "      <td>Low</td>\n",
       "    </tr>\n",
       "    <tr>\n",
       "      <th>1</th>\n",
       "      <td>12031001</td>\n",
       "      <td>2020-04-16 05:00:00</td>\n",
       "      <td>BATTERY</td>\n",
       "      <td>APARTMENT</td>\n",
       "      <td>1</td>\n",
       "      <td>60.0</td>\n",
       "      <td>Bridgeport</td>\n",
       "      <td>Medium</td>\n",
       "    </tr>\n",
       "    <tr>\n",
       "      <th>2</th>\n",
       "      <td>12093529</td>\n",
       "      <td>2020-07-01 10:16:00</td>\n",
       "      <td>ASSAULT</td>\n",
       "      <td>STREET</td>\n",
       "      <td>1</td>\n",
       "      <td>46.0</td>\n",
       "      <td>South Chicago</td>\n",
       "      <td>Medium</td>\n",
       "    </tr>\n",
       "    <tr>\n",
       "      <th>3</th>\n",
       "      <td>12178140</td>\n",
       "      <td>2020-09-27 23:29:00</td>\n",
       "      <td>BATTERY</td>\n",
       "      <td>RESIDENCE - PORCH / HALLWAY</td>\n",
       "      <td>0</td>\n",
       "      <td>67.0</td>\n",
       "      <td>West Englewood</td>\n",
       "      <td>Medium</td>\n",
       "    </tr>\n",
       "    <tr>\n",
       "      <th>4</th>\n",
       "      <td>12126129</td>\n",
       "      <td>2020-08-04 20:28:00</td>\n",
       "      <td>WEAPONS VIOLATION</td>\n",
       "      <td>STREET</td>\n",
       "      <td>1</td>\n",
       "      <td>71.0</td>\n",
       "      <td>Auburn Gresham</td>\n",
       "      <td>Medium</td>\n",
       "    </tr>\n",
       "    <tr>\n",
       "      <th>...</th>\n",
       "      <td>...</td>\n",
       "      <td>...</td>\n",
       "      <td>...</td>\n",
       "      <td>...</td>\n",
       "      <td>...</td>\n",
       "      <td>...</td>\n",
       "      <td>...</td>\n",
       "      <td>...</td>\n",
       "    </tr>\n",
       "    <tr>\n",
       "      <th>2510651</th>\n",
       "      <td>12131776</td>\n",
       "      <td>2020-08-10 20:30:00</td>\n",
       "      <td>BURGLARY</td>\n",
       "      <td>APARTMENT</td>\n",
       "      <td>0</td>\n",
       "      <td>66.0</td>\n",
       "      <td>Chicago Lawn</td>\n",
       "      <td>Medium</td>\n",
       "    </tr>\n",
       "    <tr>\n",
       "      <th>2510652</th>\n",
       "      <td>12082414</td>\n",
       "      <td>2020-06-18 21:00:00</td>\n",
       "      <td>THEFT</td>\n",
       "      <td>RESIDENCE</td>\n",
       "      <td>0</td>\n",
       "      <td>49.0</td>\n",
       "      <td>Roseland</td>\n",
       "      <td>Low</td>\n",
       "    </tr>\n",
       "    <tr>\n",
       "      <th>2510653</th>\n",
       "      <td>12118237</td>\n",
       "      <td>2020-07-27 15:02:00</td>\n",
       "      <td>BATTERY</td>\n",
       "      <td>APARTMENT</td>\n",
       "      <td>0</td>\n",
       "      <td>27.0</td>\n",
       "      <td>East Garfield Park</td>\n",
       "      <td>Medium</td>\n",
       "    </tr>\n",
       "    <tr>\n",
       "      <th>2510654</th>\n",
       "      <td>12142591</td>\n",
       "      <td>2020-08-14 15:00:00</td>\n",
       "      <td>MOTOR VEHICLE THEFT</td>\n",
       "      <td>STREET</td>\n",
       "      <td>0</td>\n",
       "      <td>2.0</td>\n",
       "      <td>West Ridge</td>\n",
       "      <td>Medium</td>\n",
       "    </tr>\n",
       "    <tr>\n",
       "      <th>2510655</th>\n",
       "      <td>12002171</td>\n",
       "      <td>2020-03-06 14:00:00</td>\n",
       "      <td>DECEPTIVE PRACTICE</td>\n",
       "      <td>APARTMENT</td>\n",
       "      <td>0</td>\n",
       "      <td>6.0</td>\n",
       "      <td>Lake View</td>\n",
       "      <td>Medium</td>\n",
       "    </tr>\n",
       "  </tbody>\n",
       "</table>\n",
       "<p>2510656 rows × 8 columns</p>\n",
       "</div>"
      ],
      "text/plain": [
       "               ID             New_Date         Primary Type  \\\n",
       "0        12045583  2020-05-07 10:24:00                THEFT   \n",
       "1        12031001  2020-04-16 05:00:00              BATTERY   \n",
       "2        12093529  2020-07-01 10:16:00              ASSAULT   \n",
       "3        12178140  2020-09-27 23:29:00              BATTERY   \n",
       "4        12126129  2020-08-04 20:28:00    WEAPONS VIOLATION   \n",
       "...           ...                  ...                  ...   \n",
       "2510651  12131776  2020-08-10 20:30:00             BURGLARY   \n",
       "2510652  12082414  2020-06-18 21:00:00                THEFT   \n",
       "2510653  12118237  2020-07-27 15:02:00              BATTERY   \n",
       "2510654  12142591  2020-08-14 15:00:00  MOTOR VEHICLE THEFT   \n",
       "2510655  12002171  2020-03-06 14:00:00   DECEPTIVE PRACTICE   \n",
       "\n",
       "                Location Description  Arrest  Community Area  \\\n",
       "0                          APARTMENT       0            35.0   \n",
       "1                          APARTMENT       1            60.0   \n",
       "2                             STREET       1            46.0   \n",
       "3        RESIDENCE - PORCH / HALLWAY       0            67.0   \n",
       "4                             STREET       1            71.0   \n",
       "...                              ...     ...             ...   \n",
       "2510651                    APARTMENT       0            66.0   \n",
       "2510652                    RESIDENCE       0            49.0   \n",
       "2510653                    APARTMENT       0            27.0   \n",
       "2510654                       STREET       0             2.0   \n",
       "2510655                    APARTMENT       0             6.0   \n",
       "\n",
       "                 RegionName Severity_Score  \n",
       "0                   Douglas            Low  \n",
       "1                Bridgeport         Medium  \n",
       "2             South Chicago         Medium  \n",
       "3            West Englewood         Medium  \n",
       "4            Auburn Gresham         Medium  \n",
       "...                     ...            ...  \n",
       "2510651        Chicago Lawn         Medium  \n",
       "2510652            Roseland            Low  \n",
       "2510653  East Garfield Park         Medium  \n",
       "2510654          West Ridge         Medium  \n",
       "2510655           Lake View         Medium  \n",
       "\n",
       "[2510656 rows x 8 columns]"
      ]
     },
     "execution_count": 3,
     "metadata": {},
     "output_type": "execute_result"
    }
   ],
   "source": [
    "crime_data_2021_present"
   ]
  },
  {
   "cell_type": "markdown",
   "metadata": {},
   "source": [
    "ML - 1. Predict if a person would get arrested considering primary type of crime, location description and neighborhood (region name)\n"
   ]
  },
  {
   "cell_type": "markdown",
   "metadata": {},
   "source": [
    "# Best Feature"
   ]
  },
  {
   "cell_type": "markdown",
   "metadata": {},
   "source": [
    "<h5>Splitting the data into testing and training set. To be cautious about not touching the testing data, we saved it to a csv file</h5>"
   ]
  },
  {
   "cell_type": "code",
   "execution_count": 4,
   "metadata": {},
   "outputs": [],
   "source": [
    "X = crime_data_2021_present[['Primary Type', 'Location Description', 'RegionName']]\n",
    "y = crime_data_2021_present['Arrest'] \n",
    "X_train, X_test, y_train, y_test = train_test_split(X, y, test_size=0.2, random_state=42) # 80% training, 20% testing\n",
    "X_test['Arrest'] = y_test\n",
    "X_test.to_csv(\"csv_files/Crime_Testing_Dataset.csv\")\n"
   ]
  },
  {
   "cell_type": "markdown",
   "metadata": {},
   "source": [
    "<h5>Get the feature which will give us the best accuracy</h5>"
   ]
  },
  {
   "cell_type": "code",
   "execution_count": 6,
   "metadata": {},
   "outputs": [],
   "source": [
    "(features, accuracy) = feature_selection_and_evaluation(X_train, y_train)"
   ]
  },
  {
   "cell_type": "code",
   "execution_count": 6,
   "metadata": {},
   "outputs": [
    {
     "name": "stdout",
     "output_type": "stream",
     "text": [
      "['Primary Type', 'Location Description', 'RegionName'] 0.8786626398290486\n"
     ]
    }
   ],
   "source": [
    "print(features, accuracy)"
   ]
  },
  {
   "cell_type": "code",
   "execution_count": 7,
   "metadata": {},
   "outputs": [
    {
     "name": "stdout",
     "output_type": "stream",
     "text": [
      "0\n",
      "1623679\n",
      "0.8083941242424786\n"
     ]
    }
   ],
   "source": [
    "baselineClf = MajorityLabelClassifier()\n",
    "baselineClf.fit(X_train, y_train)\n",
    "predict_Y = baselineClf.predict(X_train)\n",
    "\n",
    "sum = 0\n",
    "for x, x2 in zip(y_train, predict_Y):\n",
    "    if(x == x2):\n",
    "        sum += 1\n",
    "\n",
    "print(sum)\n",
    "print(sum/len(y_train))"
   ]
  },
  {
   "cell_type": "markdown",
   "metadata": {},
   "source": [
    "# Training/Testing the model\n",
    "<h5> using the best feature that we got from feature_selection_and_evaluation() function, train the LogisticRegression Model using the same training set as earlier to avoid making new one and test the model on Crime_Testing_Dataset.csv </h5>"
   ]
  },
  {
   "cell_type": "code",
   "execution_count": 8,
   "metadata": {},
   "outputs": [
    {
     "name": "stdout",
     "output_type": "stream",
     "text": [
      "Accuracy: 0.8786852859407487\n"
     ]
    }
   ],
   "source": [
    "# # Training and Testing Data Split\n",
    "# # X_train, X_test, y_train, y_test = train_test_split(X, y, test_size=0.2, random_state=42)\n",
    "\n",
    "# encoder = OneHotEncoder(handle_unknown='ignore')  # Handle unknown categories by ignoring them\n",
    "\n",
    "# # Training: Encode features to make it easier for ML to train\n",
    "# X_train_encoded = encoder.fit_transform(X_train[features])\n",
    "# # X_test_encoded = encoder.fit_transform(X_train['Primary Type'])\n",
    "\n",
    "# # Testing: Encode features to make it easier for ML to test\n",
    "# X_test_encoded = encoder.transform(X_test[features])\n",
    "# # X_test_encoded = encoder.transform(X_test['Primary Type'])\n",
    "\n",
    "# # Create and train the logistic regression model\n",
    "# model = LogisticRegression(random_state=42, solver='liblinear', penalty='l1', C=1.0)  \n",
    "# model.fit(X_train_encoded, y_train)\n",
    "\n",
    "# # Predict on the testing dataset\n",
    "# y_pred_test = model.predict(X_test_encoded)\n",
    "\n",
    "# # Evaluate the accuracy of the model\n",
    "# accuracy = accuracy_score(y_test, y_pred_test)\n",
    "\n",
    "# print(\"Accuracy:\", accuracy)\n",
    "\n",
    "\n",
    "\n"
   ]
  },
  {
   "cell_type": "code",
   "execution_count": 1,
   "metadata": {},
   "outputs": [
    {
     "ename": "NameError",
     "evalue": "name 'OneHotEncoder' is not defined",
     "output_type": "error",
     "traceback": [
      "\u001b[0;31m---------------------------------------------------------------------------\u001b[0m",
      "\u001b[0;31mNameError\u001b[0m                                 Traceback (most recent call last)",
      "Cell \u001b[0;32mIn[1], line 1\u001b[0m\n\u001b[0;32m----> 1\u001b[0m encoder \u001b[38;5;241m=\u001b[39m OneHotEncoder(handle_unknown\u001b[38;5;241m=\u001b[39m\u001b[38;5;124m'\u001b[39m\u001b[38;5;124mignore\u001b[39m\u001b[38;5;124m'\u001b[39m)  \u001b[38;5;66;03m# Handle unknown categories by ignoring them\u001b[39;00m\n\u001b[1;32m      3\u001b[0m \u001b[38;5;66;03m# Training: Encode features to make it easier for ML to train\u001b[39;00m\n\u001b[1;32m      4\u001b[0m X_train_encoded \u001b[38;5;241m=\u001b[39m encoder\u001b[38;5;241m.\u001b[39mfit_transform(X_train[features])\n",
      "\u001b[0;31mNameError\u001b[0m: name 'OneHotEncoder' is not defined"
     ]
    }
   ],
   "source": [
    "encoder = OneHotEncoder(handle_unknown='ignore')  # Handle unknown categories by ignoring them\n",
    "\n",
    "# Training: Encode features to make it easier for ML to train\n",
    "X_train_encoded = encoder.fit_transform(X_train[features])\n",
    "print(X_train_encoded)\n",
    "# X_test_encoded = encoder.fit_transform(X_train['Primary Type'])\n",
    "\n",
    "# Testing: Encode features to make it easier for ML to test\n",
    "X_test_encoded = encoder.transform(X_test[features])\n",
    "\n",
    "# Split the data into training and testing sets\n",
    "\n",
    "# Train a logistic regression model\n",
    "model = LogisticRegression(random_state=42, solver='liblinear')\n",
    "model.fit(X_train_encoded, y_train)\n",
    "\n",
    "# Predict probabilities of being arrested on the test set\n",
    "probabilities = model.predict_proba(X_test_encoded)[:, 1]\n",
    "\n",
    "# You can also directly predict the class labels if needed\n",
    "# y_pred = model.predict(X_test)\n",
    "\n",
    "# Evaluate the model (optional)\n",
    "accuracy = accuracy_score(y_test, (probabilities > 0.5).astype(int))\n",
    "print(\"Accuracy:\", accuracy)\n"
   ]
  },
  {
   "cell_type": "code",
   "execution_count": 8,
   "metadata": {},
   "outputs": [],
   "source": [
    "probabilities_arrest_df = pd.DataFrame(probabilities)\n",
    "probabilities_arrest_df.rename(columns={0:'Prob'}, inplace=True)"
   ]
  },
  {
   "cell_type": "code",
   "execution_count": 9,
   "metadata": {},
   "outputs": [
    {
     "data": {
      "text/html": [
       "<div>\n",
       "<style scoped>\n",
       "    .dataframe tbody tr th:only-of-type {\n",
       "        vertical-align: middle;\n",
       "    }\n",
       "\n",
       "    .dataframe tbody tr th {\n",
       "        vertical-align: top;\n",
       "    }\n",
       "\n",
       "    .dataframe thead th {\n",
       "        text-align: right;\n",
       "    }\n",
       "</style>\n",
       "<table border=\"1\" class=\"dataframe\">\n",
       "  <thead>\n",
       "    <tr style=\"text-align: right;\">\n",
       "      <th></th>\n",
       "      <th>Prob</th>\n",
       "    </tr>\n",
       "  </thead>\n",
       "  <tbody>\n",
       "    <tr>\n",
       "      <th>0</th>\n",
       "      <td>0.071569</td>\n",
       "    </tr>\n",
       "    <tr>\n",
       "      <th>1</th>\n",
       "      <td>0.112263</td>\n",
       "    </tr>\n",
       "    <tr>\n",
       "      <th>2</th>\n",
       "      <td>0.076977</td>\n",
       "    </tr>\n",
       "    <tr>\n",
       "      <th>3</th>\n",
       "      <td>0.054855</td>\n",
       "    </tr>\n",
       "    <tr>\n",
       "      <th>4</th>\n",
       "      <td>0.200903</td>\n",
       "    </tr>\n",
       "    <tr>\n",
       "      <th>...</th>\n",
       "      <td>...</td>\n",
       "    </tr>\n",
       "    <tr>\n",
       "      <th>502127</th>\n",
       "      <td>0.229490</td>\n",
       "    </tr>\n",
       "    <tr>\n",
       "      <th>502128</th>\n",
       "      <td>0.252273</td>\n",
       "    </tr>\n",
       "    <tr>\n",
       "      <th>502129</th>\n",
       "      <td>0.055513</td>\n",
       "    </tr>\n",
       "    <tr>\n",
       "      <th>502130</th>\n",
       "      <td>0.183500</td>\n",
       "    </tr>\n",
       "    <tr>\n",
       "      <th>502131</th>\n",
       "      <td>0.030140</td>\n",
       "    </tr>\n",
       "  </tbody>\n",
       "</table>\n",
       "<p>502132 rows × 1 columns</p>\n",
       "</div>"
      ],
      "text/plain": [
       "            Prob\n",
       "0       0.071569\n",
       "1       0.112263\n",
       "2       0.076977\n",
       "3       0.054855\n",
       "4       0.200903\n",
       "...          ...\n",
       "502127  0.229490\n",
       "502128  0.252273\n",
       "502129  0.055513\n",
       "502130  0.183500\n",
       "502131  0.030140\n",
       "\n",
       "[502132 rows x 1 columns]"
      ]
     },
     "execution_count": 9,
     "metadata": {},
     "output_type": "execute_result"
    }
   ],
   "source": [
    "probabilities_arrest_df"
   ]
  },
  {
   "cell_type": "code",
   "execution_count": 10,
   "metadata": {},
   "outputs": [],
   "source": [
    "X_test['Prob'] = probabilities"
   ]
  },
  {
   "cell_type": "code",
   "execution_count": 22,
   "metadata": {},
   "outputs": [
    {
     "data": {
      "text/plain": [
       "502132"
      ]
     },
     "execution_count": 22,
     "metadata": {},
     "output_type": "execute_result"
    }
   ],
   "source": [
    "len(X_test)"
   ]
  },
  {
   "cell_type": "code",
   "execution_count": null,
   "metadata": {},
   "outputs": [],
   "source": [
    "# Highly Recommended for Final report ()\n",
    "# 2 data (Crime and Housing)\n",
    "\n",
    "# You want to get a mean house price of all the region in Housing data (181 columns and 1 row) \n",
    "# Rotate teh data (2 columns (RegionName, AvgPrice))\n",
    "# Zone for different housing prices (Ex 10-50,000 Zone 1, 50-100,000 Zone 2, so on)\n",
    "# Join them (Housing Data and Crime) on Region Name  => New Data (Save CSV)\n",
    "# Create a ML Model Classification (SVM, NN)\n",
    "# Using the Zone, Region Name, Primary Type, Location Description => Will the person be arrested or not (0,1)\n"
   ]
  },
  {
   "cell_type": "code",
   "execution_count": null,
   "metadata": {},
   "outputs": [],
   "source": [
    "# Do T-Test to test our hypothesis\n",
    "# Get pre covid mean (Group the crime by region and then get the mean crime in the Chicago)\n",
    "# null hypothesis - The average crime in post covid is the average crime in pre covid (Fail to reject the null hypothesis)\n",
    "# alter hypothesis - The average crime in post covid is greater than average crime in pre covid (Reject null hypothesis)"
   ]
  },
  {
   "cell_type": "markdown",
   "metadata": {},
   "source": [
    "# 2nd Model Idea\n",
    "make a model such that it uses crime and housing data to predict the avg house price in that neighborhood given total crime in that neighborhood. Use linear regression becuase since we are predicting prices. "
   ]
  }
 ],
 "metadata": {
  "kernelspec": {
   "display_name": "base",
   "language": "python",
   "name": "python3"
  },
  "language_info": {
   "codemirror_mode": {
    "name": "ipython",
    "version": 3
   },
   "file_extension": ".py",
   "mimetype": "text/x-python",
   "name": "python",
   "nbconvert_exporter": "python",
   "pygments_lexer": "ipython3",
   "version": "3.11.5"
  },
  "orig_nbformat": 4
 },
 "nbformat": 4,
 "nbformat_minor": 2
}
